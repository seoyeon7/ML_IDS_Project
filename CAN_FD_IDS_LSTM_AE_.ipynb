{
  "nbformat": 4,
  "nbformat_minor": 0,
  "metadata": {
    "colab": {
      "provenance": [],
      "collapsed_sections": [],
      "authorship_tag": "ABX9TyMRSvRRSiqiykTX9jToRqww",
      "include_colab_link": true
    },
    "kernelspec": {
      "name": "python3",
      "display_name": "Python 3"
    },
    "language_info": {
      "name": "python"
    }
  },
  "cells": [
    {
      "cell_type": "markdown",
      "metadata": {
        "id": "view-in-github",
        "colab_type": "text"
      },
      "source": [
        "<a href=\"https://colab.research.google.com/github/seoyeon7/ML_IDS_Project/blob/main/CAN_FD_IDS_LSTM_AE_.ipynb\" target=\"_parent\"><img src=\"https://colab.research.google.com/assets/colab-badge.svg\" alt=\"Open In Colab\"/></a>"
      ]
    },
    {
      "cell_type": "code",
      "execution_count": 1,
      "metadata": {
        "id": "PNSW3rnY6CK8"
      },
      "outputs": [],
      "source": [
        "import os\n",
        "import pandas as pd\n",
        "import numpy as np\n",
        "import glob\n",
        "from sklearn.preprocessing import StandardScaler\n",
        "import seaborn as sns\n",
        "sns.set(color_codes=True)\n",
        "import matplotlib.pyplot as plt\n",
        "%matplotlib inline\n",
        "from sklearn import metrics\n",
        "import time\n",
        "from scipy import signal\n",
        "\n",
        "from numpy.random import seed\n",
        "import tensorflow as tf\n",
        "\n",
        "from keras.layers import Input, Dropout, Dense, LSTM, TimeDistributed, RepeatVector, Flatten\n",
        "from keras.models import Model\n",
        "from keras import regularizers\n",
        "from tensorflow import keras\n",
        "from tensorflow.keras import layers\n",
        "from tensorflow.keras.models import load_model\n",
        "from tensorflow.keras.callbacks import ModelCheckpoint, EarlyStopping\n",
        "\n",
        "# misc\n",
        "import random as rn\n",
        "\n",
        "# manual parameters\n",
        "RANDOM_SEED = 10\n",
        "\n",
        "# setting random seeds for libraries to enseure reproducibility\n",
        "np.random.seed(RANDOM_SEED)\n",
        "rn.seed(RANDOM_SEED)\n",
        "tf.random.set_seed(RANDOM_SEED)"
      ]
    },
    {
      "cell_type": "code",
      "source": [
        "df = pd.read_csv('/content/DATA.csv')\n",
        "data=df.drop(['X'],axis=1)\n",
        "data.info()"
      ],
      "metadata": {
        "colab": {
          "base_uri": "https://localhost:8080/"
        },
        "id": "JQRIVw_DEKKk",
        "outputId": "4be41322-bd61-423c-bba4-f1ce0d83e2d8"
      },
      "execution_count": 3,
      "outputs": [
        {
          "output_type": "stream",
          "name": "stdout",
          "text": [
            "<class 'pandas.core.frame.DataFrame'>\n",
            "RangeIndex: 1048556 entries, 0 to 1048555\n",
            "Data columns (total 3 columns):\n",
            " #   Column     Non-Null Count    Dtype  \n",
            "---  ------     --------------    -----  \n",
            " 0   Timestamp  1048556 non-null  float64\n",
            " 1   DLC        1048556 non-null  int64  \n",
            " 2   ID         1048556 non-null  int64  \n",
            "dtypes: float64(1), int64(2)\n",
            "memory usage: 24.0 MB\n"
          ]
        }
      ]
    },
    {
      "cell_type": "code",
      "source": [
        "data.interpolate(method='pad',inplace=True)"
      ],
      "metadata": {
        "id": "SvpUEZgHFd7s"
      },
      "execution_count": 4,
      "outputs": []
    },
    {
      "cell_type": "code",
      "source": [
        "null_values = data.isna().sum()\n",
        "null_values[null_values != 0]"
      ],
      "metadata": {
        "colab": {
          "base_uri": "https://localhost:8080/"
        },
        "id": "mFJ7AwVgF2Tb",
        "outputId": "40fec06d-42ec-428a-ae8f-bc0a87ba7a4f"
      },
      "execution_count": 5,
      "outputs": [
        {
          "output_type": "execute_result",
          "data": {
            "text/plain": [
              "Series([], dtype: int64)"
            ]
          },
          "metadata": {},
          "execution_count": 5
        }
      ]
    },
    {
      "cell_type": "code",
      "source": [
        "TIMESTAMP_FIELD = 'Timestamp'\n",
        "VALID_COLUMNS_IN_TRAIN_DATASET = data.columns.drop([TIMESTAMP_FIELD])\n",
        "VALID_COLUMNS_IN_TRAIN_DATASET"
      ],
      "metadata": {
        "colab": {
          "base_uri": "https://localhost:8080/"
        },
        "id": "H76BLY-qF59A",
        "outputId": "de837d15-f086-47b4-9280-0c558c972996"
      },
      "execution_count": 6,
      "outputs": [
        {
          "output_type": "execute_result",
          "data": {
            "text/plain": [
              "Index(['DLC', 'ID'], dtype='object')"
            ]
          },
          "metadata": {},
          "execution_count": 6
        }
      ]
    },
    {
      "cell_type": "code",
      "source": [
        "data.info()"
      ],
      "metadata": {
        "colab": {
          "base_uri": "https://localhost:8080/"
        },
        "id": "gaEUHy7-F9AX",
        "outputId": "2a24a851-ce24-4444-c7bc-e7f8bfdda4b6"
      },
      "execution_count": 7,
      "outputs": [
        {
          "output_type": "stream",
          "name": "stdout",
          "text": [
            "<class 'pandas.core.frame.DataFrame'>\n",
            "RangeIndex: 1048556 entries, 0 to 1048555\n",
            "Data columns (total 3 columns):\n",
            " #   Column     Non-Null Count    Dtype  \n",
            "---  ------     --------------    -----  \n",
            " 0   Timestamp  1048556 non-null  float64\n",
            " 1   DLC        1048556 non-null  int64  \n",
            " 2   ID         1048556 non-null  int64  \n",
            "dtypes: float64(1), int64(2)\n",
            "memory usage: 24.0 MB\n"
          ]
        }
      ]
    }
  ]
}