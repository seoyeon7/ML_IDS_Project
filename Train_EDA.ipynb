{
  "nbformat": 4,
  "nbformat_minor": 0,
  "metadata": {
    "colab": {
      "name": "Untitled0.ipynb",
      "provenance": [],
      "collapsed_sections": [],
      "authorship_tag": "ABX9TyNr6wi8h3QP7SupsL3XJoUN",
      "include_colab_link": true
    },
    "kernelspec": {
      "name": "python3",
      "display_name": "Python 3"
    },
    "language_info": {
      "name": "python"
    }
  },
  "cells": [
    {
      "cell_type": "markdown",
      "metadata": {
        "id": "view-in-github",
        "colab_type": "text"
      },
      "source": [
        "<a href=\"https://colab.research.google.com/github/seoyeon7/ML_IDS_Project/blob/main/Train_EDA.ipynb\" target=\"_parent\"><img src=\"https://colab.research.google.com/assets/colab-badge.svg\" alt=\"Open In Colab\"/></a>"
      ]
    },
    {
      "cell_type": "code",
      "execution_count": 2,
      "metadata": {
        "id": "aUIEbLaWBma9"
      },
      "outputs": [],
      "source": [
        "import os\n",
        "import pandas as pd\n",
        "import numpy as np\n",
        "from glob import glob\n"
      ]
    },
    {
      "cell_type": "code",
      "source": [
        "file_names = glob(\"/content/train_data/*.csv\")\n",
        "total = pd.DataFrame()\n",
        "\n",
        "for file_name in file_names:\n",
        "    temp = pd.read_csv(file_name, sep=',', encoding='utf-8',header=None, names=['TIMESTAMP','ID','DLC','DATA_ONE','DATA_TWO','DATA_THREE','DATA_FOUR','DATA_FIVE','DATA_SIX','DATA_SEVEN','DATA_EIGHT']) #csv파일을 하나씩 열어 임시 데이터프레임으로 생성한다\n",
        "    total = pd.concat([total, temp]) #전체 데이터프레임에 추가하여 넣는다\n",
        "\n",
        "total.to_csv(\"/content/train_data/total.csv\")"
      ],
      "metadata": {
        "colab": {
          "base_uri": "https://localhost:8080/"
        },
        "id": "A_Dbf9shUPvs",
        "outputId": "593b43a8-f323-48ff-9244-baab75b74b6a"
      },
      "execution_count": 2,
      "outputs": [
        {
          "output_type": "stream",
          "name": "stderr",
          "text": [
            "/usr/local/lib/python3.7/dist-packages/IPython/core/interactiveshell.py:2882: DtypeWarning: Columns (0,2) have mixed types.Specify dtype option on import or set low_memory=False.\n",
            "  exec(code_obj, self.user_global_ns, self.user_ns)\n",
            "/usr/local/lib/python3.7/dist-packages/IPython/core/interactiveshell.py:2882: DtypeWarning: Columns (1,2,3,4,5,6,7,8,9,10,11,12,13) have mixed types.Specify dtype option on import or set low_memory=False.\n",
            "  exec(code_obj, self.user_global_ns, self.user_ns)\n"
          ]
        }
      ]
    },
    {
      "cell_type": "code",
      "source": [
        "train_data=pd.read_csv(\"/content/train_data/total.csv\")"
      ],
      "metadata": {
        "colab": {
          "base_uri": "https://localhost:8080/"
        },
        "id": "5fLeTiY_UgiO",
        "outputId": "1b7dba6e-4b06-476e-b0cf-9d129d56f0cb"
      },
      "execution_count": 3,
      "outputs": [
        {
          "output_type": "stream",
          "name": "stderr",
          "text": [
            "/usr/local/lib/python3.7/dist-packages/IPython/core/interactiveshell.py:2882: DtypeWarning: Columns (0,1,2,3,4,5,6,7,8,9,10,11) have mixed types.Specify dtype option on import or set low_memory=False.\n",
            "  exec(code_obj, self.user_global_ns, self.user_ns)\n"
          ]
        }
      ]
    },
    {
      "cell_type": "code",
      "source": [
        "train_data.head()"
      ],
      "metadata": {
        "colab": {
          "base_uri": "https://localhost:8080/",
          "height": 288
        },
        "id": "KRDRmBwPR1yV",
        "outputId": "e7a88a47-e93c-499b-b1f4-b5cf0dc90606"
      },
      "execution_count": 4,
      "outputs": [
        {
          "output_type": "execute_result",
          "data": {
            "text/plain": [
              "  Unnamed: 0  TIMESTAMP    ID  DLC  DATA_ONE  DATA_TWO  DATA_THREE  DATA_FOUR  \\\n",
              "0          0  TIMESTAMP    ID  DLC  DATA_ONE  DATA_TWO  DATA_THREE  DATA_FOUR   \n",
              "1          1        1.9  012F    8        2B        7C          8A         DD   \n",
              "2          2        3.7  028E    2        FF        7F         NaN        NaN   \n",
              "3          3        3.9  02BB    5        BD        F4           0          0   \n",
              "4          4        4.3  00A5    8        BA        0B           1         28   \n",
              "\n",
              "   DATA_FIVE  DATA_SIX  DATA_SEVEN  DATA_EIGHT  \n",
              "0  DATA_FIVE  DATA_SIX  DATA_SEVEN  DATA_EIGHT  \n",
              "1         F1         5          33           2  \n",
              "2        NaN       NaN         NaN         NaN  \n",
              "3         F2       NaN         NaN         NaN  \n",
              "4         80        26          0C          F1  "
            ],
            "text/html": [
              "\n",
              "  <div id=\"df-9fec5ad7-e25a-4242-bbb1-836cee6ec9b7\">\n",
              "    <div class=\"colab-df-container\">\n",
              "      <div>\n",
              "<style scoped>\n",
              "    .dataframe tbody tr th:only-of-type {\n",
              "        vertical-align: middle;\n",
              "    }\n",
              "\n",
              "    .dataframe tbody tr th {\n",
              "        vertical-align: top;\n",
              "    }\n",
              "\n",
              "    .dataframe thead th {\n",
              "        text-align: right;\n",
              "    }\n",
              "</style>\n",
              "<table border=\"1\" class=\"dataframe\">\n",
              "  <thead>\n",
              "    <tr style=\"text-align: right;\">\n",
              "      <th></th>\n",
              "      <th>Unnamed: 0</th>\n",
              "      <th>TIMESTAMP</th>\n",
              "      <th>ID</th>\n",
              "      <th>DLC</th>\n",
              "      <th>DATA_ONE</th>\n",
              "      <th>DATA_TWO</th>\n",
              "      <th>DATA_THREE</th>\n",
              "      <th>DATA_FOUR</th>\n",
              "      <th>DATA_FIVE</th>\n",
              "      <th>DATA_SIX</th>\n",
              "      <th>DATA_SEVEN</th>\n",
              "      <th>DATA_EIGHT</th>\n",
              "    </tr>\n",
              "  </thead>\n",
              "  <tbody>\n",
              "    <tr>\n",
              "      <th>0</th>\n",
              "      <td>0</td>\n",
              "      <td>TIMESTAMP</td>\n",
              "      <td>ID</td>\n",
              "      <td>DLC</td>\n",
              "      <td>DATA_ONE</td>\n",
              "      <td>DATA_TWO</td>\n",
              "      <td>DATA_THREE</td>\n",
              "      <td>DATA_FOUR</td>\n",
              "      <td>DATA_FIVE</td>\n",
              "      <td>DATA_SIX</td>\n",
              "      <td>DATA_SEVEN</td>\n",
              "      <td>DATA_EIGHT</td>\n",
              "    </tr>\n",
              "    <tr>\n",
              "      <th>1</th>\n",
              "      <td>1</td>\n",
              "      <td>1.9</td>\n",
              "      <td>012F</td>\n",
              "      <td>8</td>\n",
              "      <td>2B</td>\n",
              "      <td>7C</td>\n",
              "      <td>8A</td>\n",
              "      <td>DD</td>\n",
              "      <td>F1</td>\n",
              "      <td>5</td>\n",
              "      <td>33</td>\n",
              "      <td>2</td>\n",
              "    </tr>\n",
              "    <tr>\n",
              "      <th>2</th>\n",
              "      <td>2</td>\n",
              "      <td>3.7</td>\n",
              "      <td>028E</td>\n",
              "      <td>2</td>\n",
              "      <td>FF</td>\n",
              "      <td>7F</td>\n",
              "      <td>NaN</td>\n",
              "      <td>NaN</td>\n",
              "      <td>NaN</td>\n",
              "      <td>NaN</td>\n",
              "      <td>NaN</td>\n",
              "      <td>NaN</td>\n",
              "    </tr>\n",
              "    <tr>\n",
              "      <th>3</th>\n",
              "      <td>3</td>\n",
              "      <td>3.9</td>\n",
              "      <td>02BB</td>\n",
              "      <td>5</td>\n",
              "      <td>BD</td>\n",
              "      <td>F4</td>\n",
              "      <td>0</td>\n",
              "      <td>0</td>\n",
              "      <td>F2</td>\n",
              "      <td>NaN</td>\n",
              "      <td>NaN</td>\n",
              "      <td>NaN</td>\n",
              "    </tr>\n",
              "    <tr>\n",
              "      <th>4</th>\n",
              "      <td>4</td>\n",
              "      <td>4.3</td>\n",
              "      <td>00A5</td>\n",
              "      <td>8</td>\n",
              "      <td>BA</td>\n",
              "      <td>0B</td>\n",
              "      <td>1</td>\n",
              "      <td>28</td>\n",
              "      <td>80</td>\n",
              "      <td>26</td>\n",
              "      <td>0C</td>\n",
              "      <td>F1</td>\n",
              "    </tr>\n",
              "  </tbody>\n",
              "</table>\n",
              "</div>\n",
              "      <button class=\"colab-df-convert\" onclick=\"convertToInteractive('df-9fec5ad7-e25a-4242-bbb1-836cee6ec9b7')\"\n",
              "              title=\"Convert this dataframe to an interactive table.\"\n",
              "              style=\"display:none;\">\n",
              "        \n",
              "  <svg xmlns=\"http://www.w3.org/2000/svg\" height=\"24px\"viewBox=\"0 0 24 24\"\n",
              "       width=\"24px\">\n",
              "    <path d=\"M0 0h24v24H0V0z\" fill=\"none\"/>\n",
              "    <path d=\"M18.56 5.44l.94 2.06.94-2.06 2.06-.94-2.06-.94-.94-2.06-.94 2.06-2.06.94zm-11 1L8.5 8.5l.94-2.06 2.06-.94-2.06-.94L8.5 2.5l-.94 2.06-2.06.94zm10 10l.94 2.06.94-2.06 2.06-.94-2.06-.94-.94-2.06-.94 2.06-2.06.94z\"/><path d=\"M17.41 7.96l-1.37-1.37c-.4-.4-.92-.59-1.43-.59-.52 0-1.04.2-1.43.59L10.3 9.45l-7.72 7.72c-.78.78-.78 2.05 0 2.83L4 21.41c.39.39.9.59 1.41.59.51 0 1.02-.2 1.41-.59l7.78-7.78 2.81-2.81c.8-.78.8-2.07 0-2.86zM5.41 20L4 18.59l7.72-7.72 1.47 1.35L5.41 20z\"/>\n",
              "  </svg>\n",
              "      </button>\n",
              "      \n",
              "  <style>\n",
              "    .colab-df-container {\n",
              "      display:flex;\n",
              "      flex-wrap:wrap;\n",
              "      gap: 12px;\n",
              "    }\n",
              "\n",
              "    .colab-df-convert {\n",
              "      background-color: #E8F0FE;\n",
              "      border: none;\n",
              "      border-radius: 50%;\n",
              "      cursor: pointer;\n",
              "      display: none;\n",
              "      fill: #1967D2;\n",
              "      height: 32px;\n",
              "      padding: 0 0 0 0;\n",
              "      width: 32px;\n",
              "    }\n",
              "\n",
              "    .colab-df-convert:hover {\n",
              "      background-color: #E2EBFA;\n",
              "      box-shadow: 0px 1px 2px rgba(60, 64, 67, 0.3), 0px 1px 3px 1px rgba(60, 64, 67, 0.15);\n",
              "      fill: #174EA6;\n",
              "    }\n",
              "\n",
              "    [theme=dark] .colab-df-convert {\n",
              "      background-color: #3B4455;\n",
              "      fill: #D2E3FC;\n",
              "    }\n",
              "\n",
              "    [theme=dark] .colab-df-convert:hover {\n",
              "      background-color: #434B5C;\n",
              "      box-shadow: 0px 1px 3px 1px rgba(0, 0, 0, 0.15);\n",
              "      filter: drop-shadow(0px 1px 2px rgba(0, 0, 0, 0.3));\n",
              "      fill: #FFFFFF;\n",
              "    }\n",
              "  </style>\n",
              "\n",
              "      <script>\n",
              "        const buttonEl =\n",
              "          document.querySelector('#df-9fec5ad7-e25a-4242-bbb1-836cee6ec9b7 button.colab-df-convert');\n",
              "        buttonEl.style.display =\n",
              "          google.colab.kernel.accessAllowed ? 'block' : 'none';\n",
              "\n",
              "        async function convertToInteractive(key) {\n",
              "          const element = document.querySelector('#df-9fec5ad7-e25a-4242-bbb1-836cee6ec9b7');\n",
              "          const dataTable =\n",
              "            await google.colab.kernel.invokeFunction('convertToInteractive',\n",
              "                                                     [key], {});\n",
              "          if (!dataTable) return;\n",
              "\n",
              "          const docLinkHtml = 'Like what you see? Visit the ' +\n",
              "            '<a target=\"_blank\" href=https://colab.research.google.com/notebooks/data_table.ipynb>data table notebook</a>'\n",
              "            + ' to learn more about interactive tables.';\n",
              "          element.innerHTML = '';\n",
              "          dataTable['output_type'] = 'display_data';\n",
              "          await google.colab.output.renderOutput(dataTable, element);\n",
              "          const docLink = document.createElement('div');\n",
              "          docLink.innerHTML = docLinkHtml;\n",
              "          element.appendChild(docLink);\n",
              "        }\n",
              "      </script>\n",
              "    </div>\n",
              "  </div>\n",
              "  "
            ]
          },
          "metadata": {},
          "execution_count": 4
        }
      ]
    }
  ]
}