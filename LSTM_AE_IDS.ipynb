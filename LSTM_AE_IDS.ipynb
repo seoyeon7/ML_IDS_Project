{
  "nbformat": 4,
  "nbformat_minor": 0,
  "metadata": {
    "colab": {
      "provenance": [],
      "collapsed_sections": [],
      "mount_file_id": "1d_2T8v_kYeBRdI7jzaVLvnDb2VXG5fng",
      "authorship_tag": "ABX9TyNFZwZoY3IMaA/GSploWmSP",
      "include_colab_link": true
    },
    "kernelspec": {
      "name": "python3",
      "display_name": "Python 3"
    },
    "language_info": {
      "name": "python"
    }
  },
  "cells": [
    {
      "cell_type": "markdown",
      "metadata": {
        "id": "view-in-github",
        "colab_type": "text"
      },
      "source": [
        "<a href=\"https://colab.research.google.com/github/seoyeon7/ML_IDS_Project/blob/main/LSTM_AE_IDS.ipynb\" target=\"_parent\"><img src=\"https://colab.research.google.com/assets/colab-badge.svg\" alt=\"Open In Colab\"/></a>"
      ]
    },
    {
      "cell_type": "code",
      "execution_count": null,
      "metadata": {
        "id": "ejOeL1MQW_NB"
      },
      "outputs": [],
      "source": [
        "import numpy as np\n",
        "import matplotlib.pyplot as plt\n",
        "%matplotlib inline\n",
        "\n",
        "import os\n",
        "os.environ['CUDA_VISIBLE_DEVICES']=''\n",
        "\n",
        "import pandas as pd\n",
        "from sklearn.preprocessing import MinMaxScaler\n",
        "import joblib\n",
        "from sklearn import metrics\n",
        "\n",
        "import tensorflow as tf\n",
        "tf.compat.v1.logging.set_verbosity(tf.compat.v1.logging.ERROR)\n",
        "\n",
        "from tensorflow import keras\n",
        "from tensorflow.keras import layers\n",
        "from tensorflow.keras.models import load_model\n",
        "from tensorflow.keras.callbacks import EarlyStopping, ModelCheckpoint\n",
        "\n",
        "import random as rn\n",
        "from numpy.random import seed\n",
        "\n",
        "from scipy.io.arff import loadarff\n",
        "from sklearn.metrics import roc_curve, auc, precision_recall_curve"
      ]
    },
    {
      "cell_type": "markdown",
      "source": [
        "# 데이터 불러오기"
      ],
      "metadata": {
        "id": "6ZUir8itrWPV"
      }
    },
    {
      "cell_type": "code",
      "source": [
        "noraml_data_raw = pd.read_csv(\"/content/normal.csv\")\n",
        "abnoraml_data_raw = pd.read_csv(\"/content/abnormal.csv\")"
      ],
      "metadata": {
        "id": "bPOIFnXeYhHk"
      },
      "execution_count": null,
      "outputs": []
    },
    {
      "cell_type": "code",
      "source": [
        "# 데이터 리스트화\n",
        "normal_data_list = noraml_data_raw['ID'].values.tolist()\n",
        "abnormal_data_list = abnoraml_data_raw['ID'].values.tolist()"
      ],
      "metadata": {
        "id": "KLqNHUo4ZQTO"
      },
      "execution_count": null,
      "outputs": []
    },
    {
      "cell_type": "code",
      "source": [
        "# 데스트 데이터, 검정 데이터 분리\n",
        "\n",
        "normal_data = np.array(normal_data_list).reshape(10485,100)\n",
        "normal_data_train = normal_data[:8000]\n",
        "normal_data_test = normal_data[8000:]\n",
        "\n",
        "abnormal_data = np.array(normal_data_list).reshape(10485,100)\n",
        "abnormal_data_test = abnormal_data[:2485]\n",
        "\n",
        "from sklearn.model_selection import train_test_split\n",
        "\n",
        "normal_test_tot=np.hstack((normal_data_test, np.zeros(normal_data_test.shape[0]).reshape(-1,1)))\n",
        "abnormal_test_tot=np.hstack((abnormal_data_test, np.ones(abnormal_data_test.shape[0]).reshape(-1,1)))\n",
        "test_tot = np.vstack((normal_test_tot, abnormal_test_tot))\n",
        "\n",
        "x_test, x_vaild, y_test, y_vaild = train_test_split(test_tot[:,:-1], test_tot[:,-1], test_size=0.3)"
      ],
      "metadata": {
        "id": "y1lPh79mgeqg"
      },
      "execution_count": null,
      "outputs": []
    },
    {
      "cell_type": "code",
      "source": [
        "print(x_test.shape)\n",
        "print(x_vaild.shape)\n",
        "print(y_test.shape)\n",
        "print(y_vaild.shape)"
      ],
      "metadata": {
        "id": "ae9mzCVxiQoD",
        "colab": {
          "base_uri": "https://localhost:8080/"
        },
        "outputId": "36db4a11-7dde-46ae-8237-88b58a5016ae"
      },
      "execution_count": null,
      "outputs": [
        {
          "output_type": "stream",
          "name": "stdout",
          "text": [
            "(3479, 100)\n",
            "(1491, 100)\n",
            "(3479,)\n",
            "(1491,)\n"
          ]
        }
      ]
    },
    {
      "cell_type": "code",
      "source": [
        "# z-score 정규화\n",
        "\n",
        "from sklearn.preprocessing import StandardScaler\n",
        "from sklearn.preprocessing import RobustScaler\n",
        "from sklearn.preprocessing import MinMaxScaler\n",
        "\n",
        "stder = StandardScaler()\n",
        "stder.fit(normal_data_train)\n",
        "x_normal_train_scaled = stder.transform(normal_data_train)\n",
        "x_test_scaled = stder.transform(x_test)\n",
        "x_valid_scaled = stder.transform(x_vaild)"
      ],
      "metadata": {
        "id": "sKSyBc_JiZXc"
      },
      "execution_count": null,
      "outputs": []
    },
    {
      "cell_type": "code",
      "source": [
        "# LSTM 입력 데이터 형태로 변경\n",
        "\n",
        "x_normal_train_scaled = x_normal_train_scaled.reshape(x_normal_train_scaled.shape[0], 1, x_normal_train_scaled.shape[1])\n",
        "x_test_scaled = x_test_scaled.reshape(x_test_scaled.shape[0], 1, x_test_scaled.shape[1])\n",
        "x_valid_scaled = x_valid_scaled.reshape(x_valid_scaled.shape[0], 1, x_valid_scaled.shape[1])\n",
        "\n",
        "print(\"훈련 정상 데이터 : \", x_normal_train_scaled.shape)\n",
        "print(\"검증 데이터  : \", x_valid_scaled.shape)\n",
        "print(\"테스트 데이터 : \", x_test_scaled.shape)"
      ],
      "metadata": {
        "id": "L6i-K_VyjojH",
        "colab": {
          "base_uri": "https://localhost:8080/"
        },
        "outputId": "aa087457-96a5-4faf-9ede-7683dcffbb1a"
      },
      "execution_count": null,
      "outputs": [
        {
          "output_type": "stream",
          "name": "stdout",
          "text": [
            "훈련 정상 데이터 :  (8000, 1, 100)\n",
            "검증 데이터  :  (1491, 1, 100)\n",
            "테스트 데이터 :  (3479, 1, 100)\n"
          ]
        }
      ]
    },
    {
      "cell_type": "markdown",
      "source": [
        "# LSTM AE 모델 생성"
      ],
      "metadata": {
        "id": "QP-5lGlklans"
      }
    },
    {
      "cell_type": "code",
      "source": [
        "# 오토인코더 신경망 구축\n",
        "\n",
        "from keras.models import Sequential\n",
        "from keras.layers import Dense, LSTM, Dropout, RepeatVector, TimeDistributed, Input\n",
        "from keras import regularizers\n",
        "from keras.models import Model\n",
        "\n",
        "def autoencoder_model(X):\n",
        "    inputs = Input(shape=(X.shape[1], X.shape[2]))\n",
        "    L1 = LSTM(32, activation='relu', return_sequences=True, \n",
        "              kernel_regularizer=regularizers.l2(0.00))(inputs)\n",
        "    L2 = LSTM(16, activation='relu', return_sequences=False)(L1)\n",
        "    L3 = RepeatVector(X.shape[1])(L2)\n",
        "    L4 = LSTM(16, activation='relu', return_sequences=True)(L3)\n",
        "    L5 = LSTM(32, activation='relu', return_sequences=True)(L4)\n",
        "    output = TimeDistributed(Dense(X.shape[2]))(L5)    \n",
        "    model = Model(inputs=inputs, outputs=output)\n",
        "    return model"
      ],
      "metadata": {
        "id": "DFltHKr6kfyx"
      },
      "execution_count": null,
      "outputs": []
    },
    {
      "cell_type": "code",
      "source": [
        "# 모델 생성\n",
        "\n",
        "model = autoencoder_model(x_normal_train_scaled)\n",
        "model.compile(optimizer='adam', loss='mae')\n",
        "model.summary()"
      ],
      "metadata": {
        "id": "YZ8H_irM4NME",
        "colab": {
          "base_uri": "https://localhost:8080/"
        },
        "outputId": "1995abbb-f51e-4450-daf9-cc7278ea9a93"
      },
      "execution_count": null,
      "outputs": [
        {
          "output_type": "stream",
          "name": "stdout",
          "text": [
            "Model: \"model_13\"\n",
            "_________________________________________________________________\n",
            " Layer (type)                Output Shape              Param #   \n",
            "=================================================================\n",
            " input_15 (InputLayer)       [(None, 1, 100)]          0         \n",
            "                                                                 \n",
            " lstm_52 (LSTM)              (None, 1, 32)             17024     \n",
            "                                                                 \n",
            " lstm_53 (LSTM)              (None, 16)                3136      \n",
            "                                                                 \n",
            " repeat_vector_14 (RepeatVec  (None, 1, 16)            0         \n",
            " tor)                                                            \n",
            "                                                                 \n",
            " lstm_54 (LSTM)              (None, 1, 16)             2112      \n",
            "                                                                 \n",
            " lstm_55 (LSTM)              (None, 1, 32)             6272      \n",
            "                                                                 \n",
            " time_distributed_14 (TimeDi  (None, 1, 100)           3300      \n",
            " stributed)                                                      \n",
            "                                                                 \n",
            "=================================================================\n",
            "Total params: 31,844\n",
            "Trainable params: 31,844\n",
            "Non-trainable params: 0\n",
            "_________________________________________________________________\n"
          ]
        }
      ]
    },
    {
      "cell_type": "code",
      "source": [
        "from keras.callbacks import EarlyStopping"
      ],
      "metadata": {
        "id": "UxOR-mno5mPz"
      },
      "execution_count": null,
      "outputs": []
    },
    {
      "cell_type": "code",
      "source": [
        "# 모델 학습 및 평가\n",
        "\n",
        "nb_epochs = 100\n",
        "batch_size = 64\n",
        "callbacks = [EarlyStopping(monitor='val_loss', patience=50)]\n",
        "history = model.fit(x_normal_train_scaled, x_normal_train_scaled, epochs=nb_epochs, batch_size=batch_size, callbacks=callbacks, validation_split=0.3).history"
      ],
      "metadata": {
        "id": "cjPdC1kAmeKK",
        "colab": {
          "base_uri": "https://localhost:8080/"
        },
        "outputId": "2112c514-7d80-4bad-b19b-a5a8b8f05a9f"
      },
      "execution_count": null,
      "outputs": [
        {
          "output_type": "stream",
          "name": "stdout",
          "text": [
            "Epoch 1/100\n",
            "88/88 [==============================] - 7s 17ms/step - loss: 0.0986 - val_loss: 0.0837\n",
            "Epoch 2/100\n",
            "88/88 [==============================] - 1s 8ms/step - loss: 0.0834 - val_loss: 0.0836\n",
            "Epoch 3/100\n",
            "88/88 [==============================] - 1s 7ms/step - loss: 0.0834 - val_loss: 0.0836\n",
            "Epoch 4/100\n",
            "88/88 [==============================] - 1s 9ms/step - loss: 0.0834 - val_loss: 0.0836\n",
            "Epoch 5/100\n",
            "88/88 [==============================] - 1s 8ms/step - loss: 0.0834 - val_loss: 0.0836\n",
            "Epoch 6/100\n",
            "88/88 [==============================] - 1s 8ms/step - loss: 0.0834 - val_loss: 0.0836\n",
            "Epoch 7/100\n",
            "88/88 [==============================] - 1s 8ms/step - loss: 0.0834 - val_loss: 0.0836\n",
            "Epoch 8/100\n",
            "88/88 [==============================] - 1s 8ms/step - loss: 0.0834 - val_loss: 0.0836\n",
            "Epoch 9/100\n",
            "88/88 [==============================] - 1s 8ms/step - loss: 0.0834 - val_loss: 0.0836\n",
            "Epoch 10/100\n",
            "88/88 [==============================] - 1s 8ms/step - loss: 0.0834 - val_loss: 0.0836\n",
            "Epoch 11/100\n",
            "88/88 [==============================] - 1s 8ms/step - loss: 0.0833 - val_loss: 0.0834\n",
            "Epoch 12/100\n",
            "88/88 [==============================] - 1s 8ms/step - loss: 0.0829 - val_loss: 0.0832\n",
            "Epoch 13/100\n",
            "88/88 [==============================] - 1s 8ms/step - loss: 0.0827 - val_loss: 0.0832\n",
            "Epoch 14/100\n",
            "88/88 [==============================] - 1s 8ms/step - loss: 0.0827 - val_loss: 0.0831\n",
            "Epoch 15/100\n",
            "88/88 [==============================] - 1s 8ms/step - loss: 0.0826 - val_loss: 0.0831\n",
            "Epoch 16/100\n",
            "88/88 [==============================] - 1s 8ms/step - loss: 0.0826 - val_loss: 0.0831\n",
            "Epoch 17/100\n",
            "88/88 [==============================] - 1s 8ms/step - loss: 0.0825 - val_loss: 0.0831\n",
            "Epoch 18/100\n",
            "88/88 [==============================] - 1s 8ms/step - loss: 0.0825 - val_loss: 0.0830\n",
            "Epoch 19/100\n",
            "88/88 [==============================] - 1s 8ms/step - loss: 0.0825 - val_loss: 0.0830\n",
            "Epoch 20/100\n",
            "88/88 [==============================] - 1s 8ms/step - loss: 0.0824 - val_loss: 0.0830\n",
            "Epoch 21/100\n",
            "88/88 [==============================] - 1s 8ms/step - loss: 0.0824 - val_loss: 0.0830\n",
            "Epoch 22/100\n",
            "88/88 [==============================] - 1s 8ms/step - loss: 0.0822 - val_loss: 0.0828\n",
            "Epoch 23/100\n",
            "88/88 [==============================] - 1s 8ms/step - loss: 0.0819 - val_loss: 0.0828\n",
            "Epoch 24/100\n",
            "88/88 [==============================] - 1s 8ms/step - loss: 0.0818 - val_loss: 0.0827\n",
            "Epoch 25/100\n",
            "88/88 [==============================] - 1s 7ms/step - loss: 0.0817 - val_loss: 0.0827\n",
            "Epoch 26/100\n",
            "88/88 [==============================] - 1s 8ms/step - loss: 0.0817 - val_loss: 0.0826\n",
            "Epoch 27/100\n",
            "88/88 [==============================] - 1s 9ms/step - loss: 0.0817 - val_loss: 0.0826\n",
            "Epoch 28/100\n",
            "88/88 [==============================] - 1s 8ms/step - loss: 0.0817 - val_loss: 0.0827\n",
            "Epoch 29/100\n",
            "88/88 [==============================] - 1s 8ms/step - loss: 0.0816 - val_loss: 0.0826\n",
            "Epoch 30/100\n",
            "88/88 [==============================] - 1s 8ms/step - loss: 0.0816 - val_loss: 0.0826\n",
            "Epoch 31/100\n",
            "88/88 [==============================] - 1s 8ms/step - loss: 0.0816 - val_loss: 0.0826\n",
            "Epoch 32/100\n",
            "88/88 [==============================] - 1s 7ms/step - loss: 0.0815 - val_loss: 0.0826\n",
            "Epoch 33/100\n",
            "88/88 [==============================] - 1s 7ms/step - loss: 0.0815 - val_loss: 0.0826\n",
            "Epoch 34/100\n",
            "88/88 [==============================] - 1s 8ms/step - loss: 0.0815 - val_loss: 0.0826\n",
            "Epoch 35/100\n",
            "88/88 [==============================] - 1s 7ms/step - loss: 0.0815 - val_loss: 0.0825\n",
            "Epoch 36/100\n",
            "88/88 [==============================] - 1s 8ms/step - loss: 0.0814 - val_loss: 0.0825\n",
            "Epoch 37/100\n",
            "88/88 [==============================] - 1s 7ms/step - loss: 0.0814 - val_loss: 0.0826\n",
            "Epoch 38/100\n",
            "88/88 [==============================] - 1s 8ms/step - loss: 0.0814 - val_loss: 0.0825\n",
            "Epoch 39/100\n",
            "88/88 [==============================] - 1s 8ms/step - loss: 0.0814 - val_loss: 0.0825\n",
            "Epoch 40/100\n",
            "88/88 [==============================] - 1s 8ms/step - loss: 0.0813 - val_loss: 0.0825\n",
            "Epoch 41/100\n",
            "88/88 [==============================] - 1s 8ms/step - loss: 0.0813 - val_loss: 0.0824\n",
            "Epoch 42/100\n",
            "88/88 [==============================] - 1s 8ms/step - loss: 0.0813 - val_loss: 0.0824\n",
            "Epoch 43/100\n",
            "88/88 [==============================] - 1s 8ms/step - loss: 0.0813 - val_loss: 0.0824\n",
            "Epoch 44/100\n",
            "88/88 [==============================] - 1s 9ms/step - loss: 0.0813 - val_loss: 0.0824\n",
            "Epoch 45/100\n",
            "88/88 [==============================] - 1s 7ms/step - loss: 0.0812 - val_loss: 0.0824\n",
            "Epoch 46/100\n",
            "88/88 [==============================] - 1s 8ms/step - loss: 0.0812 - val_loss: 0.0824\n",
            "Epoch 47/100\n",
            "88/88 [==============================] - 1s 8ms/step - loss: 0.0812 - val_loss: 0.0824\n",
            "Epoch 48/100\n",
            "88/88 [==============================] - 1s 7ms/step - loss: 0.0812 - val_loss: 0.0824\n",
            "Epoch 49/100\n",
            "88/88 [==============================] - 1s 8ms/step - loss: 0.0812 - val_loss: 0.0824\n",
            "Epoch 50/100\n",
            "88/88 [==============================] - 1s 7ms/step - loss: 0.0812 - val_loss: 0.0823\n",
            "Epoch 51/100\n",
            "88/88 [==============================] - 1s 7ms/step - loss: 0.0811 - val_loss: 0.0823\n",
            "Epoch 52/100\n",
            "88/88 [==============================] - 1s 8ms/step - loss: 0.0811 - val_loss: 0.0823\n",
            "Epoch 53/100\n",
            "88/88 [==============================] - 1s 8ms/step - loss: 0.0811 - val_loss: 0.0823\n",
            "Epoch 54/100\n",
            "88/88 [==============================] - 1s 8ms/step - loss: 0.0811 - val_loss: 0.0823\n",
            "Epoch 55/100\n",
            "88/88 [==============================] - 1s 8ms/step - loss: 0.0811 - val_loss: 0.0823\n",
            "Epoch 56/100\n",
            "88/88 [==============================] - 1s 7ms/step - loss: 0.0811 - val_loss: 0.0822\n",
            "Epoch 57/100\n",
            "88/88 [==============================] - 1s 8ms/step - loss: 0.0811 - val_loss: 0.0822\n",
            "Epoch 58/100\n",
            "88/88 [==============================] - 1s 8ms/step - loss: 0.0810 - val_loss: 0.0822\n",
            "Epoch 59/100\n",
            "88/88 [==============================] - 1s 8ms/step - loss: 0.0810 - val_loss: 0.0822\n",
            "Epoch 60/100\n",
            "88/88 [==============================] - 1s 8ms/step - loss: 0.0810 - val_loss: 0.0821\n",
            "Epoch 61/100\n",
            "88/88 [==============================] - 1s 8ms/step - loss: 0.0810 - val_loss: 0.0820\n",
            "Epoch 62/100\n",
            "88/88 [==============================] - 1s 8ms/step - loss: 0.0809 - val_loss: 0.0820\n",
            "Epoch 63/100\n",
            "88/88 [==============================] - 1s 8ms/step - loss: 0.0809 - val_loss: 0.0819\n",
            "Epoch 64/100\n",
            "88/88 [==============================] - 1s 8ms/step - loss: 0.0809 - val_loss: 0.0818\n",
            "Epoch 65/100\n",
            "88/88 [==============================] - 1s 8ms/step - loss: 0.0809 - val_loss: 0.0817\n",
            "Epoch 66/100\n",
            "88/88 [==============================] - 1s 8ms/step - loss: 0.0808 - val_loss: 0.0817\n",
            "Epoch 67/100\n",
            "88/88 [==============================] - 1s 9ms/step - loss: 0.0808 - val_loss: 0.0817\n",
            "Epoch 68/100\n",
            "88/88 [==============================] - 1s 9ms/step - loss: 0.0808 - val_loss: 0.0816\n",
            "Epoch 69/100\n",
            "88/88 [==============================] - 1s 8ms/step - loss: 0.0808 - val_loss: 0.0816\n",
            "Epoch 70/100\n",
            "88/88 [==============================] - 1s 8ms/step - loss: 0.0807 - val_loss: 0.0815\n",
            "Epoch 71/100\n",
            "88/88 [==============================] - 1s 8ms/step - loss: 0.0807 - val_loss: 0.0815\n",
            "Epoch 72/100\n",
            "88/88 [==============================] - 1s 9ms/step - loss: 0.0807 - val_loss: 0.0815\n",
            "Epoch 73/100\n",
            "88/88 [==============================] - 1s 8ms/step - loss: 0.0807 - val_loss: 0.0815\n",
            "Epoch 74/100\n",
            "88/88 [==============================] - 1s 7ms/step - loss: 0.0807 - val_loss: 0.0815\n",
            "Epoch 75/100\n",
            "88/88 [==============================] - 1s 8ms/step - loss: 0.0807 - val_loss: 0.0815\n",
            "Epoch 76/100\n",
            "88/88 [==============================] - 1s 7ms/step - loss: 0.0807 - val_loss: 0.0815\n",
            "Epoch 77/100\n",
            "88/88 [==============================] - 1s 8ms/step - loss: 0.0807 - val_loss: 0.0814\n",
            "Epoch 78/100\n",
            "88/88 [==============================] - 1s 7ms/step - loss: 0.0806 - val_loss: 0.0814\n",
            "Epoch 79/100\n",
            "88/88 [==============================] - 1s 9ms/step - loss: 0.0806 - val_loss: 0.0814\n",
            "Epoch 80/100\n",
            "88/88 [==============================] - 1s 8ms/step - loss: 0.0806 - val_loss: 0.0814\n",
            "Epoch 81/100\n",
            "88/88 [==============================] - 1s 8ms/step - loss: 0.0806 - val_loss: 0.0814\n",
            "Epoch 82/100\n",
            "88/88 [==============================] - 1s 8ms/step - loss: 0.0806 - val_loss: 0.0814\n",
            "Epoch 83/100\n",
            "88/88 [==============================] - 1s 8ms/step - loss: 0.0806 - val_loss: 0.0814\n",
            "Epoch 84/100\n",
            "88/88 [==============================] - 1s 8ms/step - loss: 0.0806 - val_loss: 0.0814\n",
            "Epoch 85/100\n",
            "88/88 [==============================] - 1s 8ms/step - loss: 0.0806 - val_loss: 0.0814\n",
            "Epoch 86/100\n",
            "88/88 [==============================] - 1s 8ms/step - loss: 0.0806 - val_loss: 0.0814\n",
            "Epoch 87/100\n",
            "88/88 [==============================] - 1s 8ms/step - loss: 0.0806 - val_loss: 0.0814\n",
            "Epoch 88/100\n",
            "88/88 [==============================] - 1s 7ms/step - loss: 0.0806 - val_loss: 0.0814\n",
            "Epoch 89/100\n",
            "88/88 [==============================] - 1s 15ms/step - loss: 0.0806 - val_loss: 0.0814\n",
            "Epoch 90/100\n",
            "88/88 [==============================] - 1s 13ms/step - loss: 0.0805 - val_loss: 0.0814\n",
            "Epoch 91/100\n",
            "88/88 [==============================] - 1s 11ms/step - loss: 0.0805 - val_loss: 0.0814\n",
            "Epoch 92/100\n",
            "88/88 [==============================] - 1s 8ms/step - loss: 0.0805 - val_loss: 0.0813\n",
            "Epoch 93/100\n",
            "88/88 [==============================] - 1s 8ms/step - loss: 0.0805 - val_loss: 0.0814\n",
            "Epoch 94/100\n",
            "88/88 [==============================] - 1s 9ms/step - loss: 0.0805 - val_loss: 0.0813\n",
            "Epoch 95/100\n",
            "88/88 [==============================] - 1s 8ms/step - loss: 0.0805 - val_loss: 0.0814\n",
            "Epoch 96/100\n",
            "88/88 [==============================] - 1s 8ms/step - loss: 0.0805 - val_loss: 0.0814\n",
            "Epoch 97/100\n",
            "88/88 [==============================] - 1s 8ms/step - loss: 0.0805 - val_loss: 0.0814\n",
            "Epoch 98/100\n",
            "88/88 [==============================] - 1s 8ms/step - loss: 0.0805 - val_loss: 0.0813\n",
            "Epoch 99/100\n",
            "88/88 [==============================] - 1s 8ms/step - loss: 0.0805 - val_loss: 0.0814\n",
            "Epoch 100/100\n",
            "88/88 [==============================] - 1s 8ms/step - loss: 0.0805 - val_loss: 0.0814\n"
          ]
        }
      ]
    },
    {
      "cell_type": "code",
      "source": [
        "#학습 손실 시각화\n",
        "\n",
        "fig, ax = plt.subplots(figsize=(14, 6), dpi=80)\n",
        "ax.plot(history['loss'], 'b', label='Train', linewidth=2)\n",
        "ax.plot(history['val_loss'], 'r', label='Validation', linewidth=2)\n",
        "ax.set_title('Model loss', fontsize=16)\n",
        "ax.set_ylabel('Loss (mae)')\n",
        "ax.set_xlabel('Epoch')\n",
        "ax.legend(loc='upper right')\n",
        "plt.show()"
      ],
      "metadata": {
        "id": "sOqTsMYAmkma",
        "colab": {
          "base_uri": "https://localhost:8080/",
          "height": 457
        },
        "outputId": "df5e0648-1372-4910-909e-ae1613edc79a"
      },
      "execution_count": null,
      "outputs": [
        {
          "output_type": "display_data",
          "data": {
            "text/plain": [
              "<Figure size 1120x480 with 1 Axes>"
            ],
            "image/png": "[encoded data removed]"
          },
          "metadata": {
            "needs_background": "light"
          }
        }
      ]
    },
    {
      "cell_type": "code",
      "source": [
        "import seaborn as sns\n",
        "sns.set(color_codes=True)\n",
        "\n",
        "X_pred = model.predict(x_normal_train_scaled)\n",
        "X_pred = X_pred.reshape(X_pred.shape[0], X_pred.shape[2]) \n",
        "X_pred = pd.DataFrame(X_pred)\n",
        " \n",
        "Xtrain = x_normal_train_scaled.reshape(x_normal_train_scaled.shape[0], x_normal_train_scaled.shape[2]) \n",
        "scored = pd.DataFrame()\n",
        "scored['Loss_mae'] = np.mean(np.abs(X_pred-Xtrain), axis = 1) \n",
        "\n",
        "Threshold = 0.17\n",
        "\n",
        "plt.figure(figsize=(16,9), dpi=80)\n",
        "plt.title('Loss Distribution', fontsize=16)\n",
        "plt.xlim([0,1])\n",
        "sns.distplot(scored['Loss_mae'], kde= True, color = 'blue');"
      ],
      "metadata": {
        "id": "CfBeCxVDBPOt",
        "colab": {
          "base_uri": "https://localhost:8080/",
          "height": 695
        },
        "outputId": "037ff09d-0cee-45d9-a3ef-e8f49841a993"
      },
      "execution_count": null,
      "outputs": [
        {
          "output_type": "stream",
          "name": "stderr",
          "text": [
            "/usr/local/lib/python3.7/dist-packages/seaborn/distributions.py:2619: FutureWarning: `distplot` is a deprecated function and will be removed in a future version. Please adapt your code to use either `displot` (a figure-level function with similar flexibility) or `histplot` (an axes-level function for histograms).\n",
            "  warnings.warn(msg, FutureWarning)\n"
          ]
        },
        {
          "output_type": "display_data",
          "data": {
            "text/plain": [
              "<Figure size 1280x720 with 1 Axes>"
            ],
            "image/png": "[encoded data removed]"
          },
          "metadata": {}
        }
      ]
    },
    {
      "cell_type": "code",
      "source": [
        "X_pred_3d = model.predict(x_valid_scaled)\n",
        "X_pred = X_pred_3d.reshape(X_pred_3d.shape[0], X_pred_3d.shape[2])\n",
        "X_valid_ = x_valid_scaled.reshape(x_valid_scaled.shape[0], x_valid_scaled.shape[2])\n",
        "\n",
        "mse = np.mean(np.power(X_valid_ - X_pred, 2), axis=1) \n",
        "error_df = pd.DataFrame({'Reconstruction_error' : mse, \n",
        "                         'True_class': y_vaild})\n",
        "\n",
        "precision_rt, recall_rt, threshold_rt = metrics.precision_recall_curve(error_df['True_class'], error_df['Reconstruction_error'])\n",
        "\n",
        "best_cnt_dic = abs(precision_rt-recall_rt)\n",
        "threshold_fixed = threshold_rt[np.argmin(best_cnt_dic)]\n",
        "\n",
        "print('precision:', precision_rt[np.argmin(best_cnt_dic)])\n",
        "print('recall:', recall_rt[np.argmin(best_cnt_dic)])\n",
        "print('threshold:', threshold_fixed)\n",
        "\n",
        "plt.figure(figsize=(8,5))\n",
        "plt.plot(threshold_rt, precision_rt[1:], label='Precision')\n",
        "plt.plot(threshold_rt, recall_rt[1:], label='Recall')\n",
        "plt.xlabel('Threshold'); plt.ylabel('Precision/Recall')\n",
        "plt.legend()\n",
        "plt.show()"
      ],
      "metadata": {
        "id": "iycnNCxPOjch",
        "colab": {
          "base_uri": "https://localhost:8080/",
          "height": 394
        },
        "outputId": "ae6b0eba-7609-44e3-ee7f-cc696c05933e"
      },
      "execution_count": null,
      "outputs": [
        {
          "output_type": "stream",
          "name": "stdout",
          "text": [
            "precision: 0.5552731893265566\n",
            "recall: 0.5552731893265566\n",
            "threshold: 0.00026299774085678716\n"
          ]
        },
        {
          "output_type": "display_data",
          "data": {
            "text/plain": [
              "<Figure size 576x360 with 1 Axes>"
            ],
            "image/png": "[encoded data removed]"
          },
          "metadata": {}
        }
      ]
    },
    {
      "cell_type": "markdown",
      "source": [
        "# 모델 성능 평가"
      ],
      "metadata": {
        "id": "8MLPN2CSwTjj"
      }
    },
    {
      "cell_type": "code",
      "source": [
        "# AUC/ROC 지표\n",
        "\n",
        "fpr, tpr, Thresholds = roc_curve(y_vaild, mse)\n",
        "roc_auc = auc(fpr, tpr)\n",
        "\n",
        "plt.title('AUC/ROC')\n",
        "plt.plot(fpr, tpr, label='AUC = %0.4f' % roc_auc, linewidth=5 )\n",
        "plt.legend(loc='lower right')\n",
        "plt.plot([0,1], [0,1], 'r--')\n",
        "plt.xlim([-0.001, 1])\n",
        "plt.ylim([0,1.001])\n",
        "plt.ylabel('True Positive Rate')\n",
        "plt.xlabel('False Postive Rate')\n",
        "plt.show();\n"
      ],
      "metadata": {
        "colab": {
          "base_uri": "https://localhost:8080/",
          "height": 301
        },
        "id": "OVC5nfd4wSos",
        "outputId": "bda990d6-c362-46b2-f25a-f7a49a6b92d2"
      },
      "execution_count": null,
      "outputs": [
        {
          "output_type": "display_data",
          "data": {
            "text/plain": [
              "<Figure size 432x288 with 1 Axes>"
            ],
            "image/png": "[encoded data removed]"
          },
          "metadata": {}
        }
      ]
    }
  ]
}